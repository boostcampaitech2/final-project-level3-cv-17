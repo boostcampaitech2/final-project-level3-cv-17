{
 "cells": [
  {
   "cell_type": "code",
   "execution_count": 11,
   "metadata": {},
   "outputs": [],
   "source": [
    "from dataset import ClsDataset\n",
    "from torch.utils.data import DataLoader\n",
    "import matplotlib as mpl\n",
    "import matplotlib.pyplot as plt\n",
    "\n",
    "from model import efficientnet_b0\n",
    "import os\n",
    "import torch\n",
    "\n",
    "from tqdm import tqdm\n",
    "\n",
    "data_dir = '../data/valid/10'\n",
    "data_set = ClsDataset(data_dir)\n",
    "data_loader = DataLoader(\n",
    "    data_set,\n",
    "    batch_size=1,\n",
    "    shuffle=True,\n",
    "    num_workers=8\n",
    ")"
   ]
  },
  {
   "cell_type": "code",
   "execution_count": 12,
   "metadata": {},
   "outputs": [
    {
     "data": {
      "text/plain": [
       "['10011001',\n",
       " '10011002',\n",
       " '10011003',\n",
       " '10011004',\n",
       " '10011005',\n",
       " '10012001',\n",
       " '10012002',\n",
       " '10012003',\n",
       " '10012004',\n",
       " '10012005',\n",
       " '10012006',\n",
       " '10012007',\n",
       " '10012008',\n",
       " '10012009',\n",
       " '10014001',\n",
       " '10014002',\n",
       " '10014003',\n",
       " '10014004',\n",
       " '10014005',\n",
       " '10014006']"
      ]
     },
     "execution_count": 12,
     "metadata": {},
     "output_type": "execute_result"
    }
   ],
   "source": [
    "lst = sorted(os.listdir(data_dir))\n",
    "lst"
   ]
  },
  {
   "cell_type": "code",
   "execution_count": 31,
   "metadata": {},
   "outputs": [],
   "source": [
    "@torch.no_grad()\n",
    "def inference(model):\n",
    "    result = {\n",
    "        \"inference\": {},\n",
    "        \"time\": {\n",
    "            \"profile\": {\"cuda\": float(\"inf\"), \"cpu\": float(\"inf\")},\n",
    "            \"runtime\": {\"all\": 0, \"inference_only\": 0},\n",
    "            \"inference\": {},\n",
    "        },\n",
    "        \"macs\": float(\"inf\"),\n",
    "    }\n",
    "    time_measure_inference = 0\n",
    "    for img, label in tqdm(data_loader, \"Running inference ...\"):\n",
    "        t_start = torch.cuda.Event(enable_timing=True)\n",
    "        t_end = torch.cuda.Event(enable_timing=True)\n",
    "\n",
    "        t_start.record()\n",
    "        img = img.to(device)\n",
    "        pred = model(img)\n",
    "        pred = torch.argmax(pred)\n",
    "\n",
    "        t_end.record()\n",
    "        torch.cuda.synchronize()\n",
    "        t_inference = t_start.elapsed_time(t_end) / 1000\n",
    "        time_measure_inference += t_inference\n",
    "\n",
    "        result[\"inference\"][label] = lst[int(pred.detach())]\n",
    "        result[\"time\"][\"inference\"][label] = t_inference\n",
    "\n",
    "    result[\"time\"][\"runtime\"][\"inference_only\"] = time_measure_inference\n",
    "\n",
    "    return result"
   ]
  },
  {
   "cell_type": "code",
   "execution_count": 32,
   "metadata": {},
   "outputs": [],
   "source": [
    "use_cuda = torch.cuda.is_available()\n",
    "device = torch.device(\"cuda\" if use_cuda else \"cpu\")\n",
    "m = torch.nn.Sigmoid()"
   ]
  },
  {
   "cell_type": "code",
   "execution_count": 33,
   "metadata": {},
   "outputs": [
    {
     "name": "stderr",
     "output_type": "stream",
     "text": [
      "Running inference ...: 100%|██████████| 1600/1600 [00:22<00:00, 71.14it/s]\n"
     ]
    },
    {
     "data": {
      "text/plain": [
       "19.768724025726303"
      ]
     },
     "execution_count": 33,
     "metadata": {},
     "output_type": "execute_result"
    }
   ],
   "source": [
    "model = efficientnet_b0(num_classes=len(lst))\n",
    "\n",
    "model_path = '../models/classification_10_ts/best.pt'\n",
    "model_checkpoint = torch.load(model_path)\n",
    "model.load_state_dict(model_checkpoint, strict=False)  #모델 불러오기\n",
    "\n",
    "model = model.to(device)\n",
    "model.eval()\n",
    "\n",
    "result = inference(model)\n",
    "result[\"time\"][\"runtime\"][\"inference_only\"]"
   ]
  },
  {
   "cell_type": "code",
   "execution_count": 34,
   "metadata": {},
   "outputs": [
    {
     "name": "stderr",
     "output_type": "stream",
     "text": [
      "Running inference ...: 100%|██████████| 1600/1600 [00:15<00:00, 100.16it/s]\n"
     ]
    },
    {
     "data": {
      "text/plain": [
       "13.273399139881146"
      ]
     },
     "execution_count": 34,
     "metadata": {},
     "output_type": "execute_result"
    }
   ],
   "source": [
    "model_path = '../models/classification_10_ts/best.ts'\n",
    "model = torch.jit.load(model_path)\n",
    "\n",
    "model = model.to(device)\n",
    "model.eval()\n",
    "\n",
    "result = inference(model)\n",
    "result[\"time\"][\"runtime\"][\"inference_only\"]"
   ]
  },
  {
   "cell_type": "code",
   "execution_count": null,
   "metadata": {},
   "outputs": [],
   "source": []
  }
 ],
 "metadata": {
  "interpreter": {
   "hash": "e31c68abf1d5dd3f9e2269f23eadf1b199587e56c0618a30760176a65ebfcab4"
  },
  "kernelspec": {
   "display_name": "Python 3.7.11 64-bit ('lightweight': conda)",
   "language": "python",
   "name": "python3"
  },
  "language_info": {
   "codemirror_mode": {
    "name": "ipython",
    "version": 3
   },
   "file_extension": ".py",
   "mimetype": "text/x-python",
   "name": "python",
   "nbconvert_exporter": "python",
   "pygments_lexer": "ipython3",
   "version": "3.7.11"
  },
  "orig_nbformat": 4
 },
 "nbformat": 4,
 "nbformat_minor": 2
}
