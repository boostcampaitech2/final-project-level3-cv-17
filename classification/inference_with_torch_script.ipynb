{
 "cells": [
  {
   "cell_type": "code",
   "execution_count": 9,
   "metadata": {},
   "outputs": [],
   "source": [
    "from dataset import SmallDataset\n",
    "from torch.utils.data import DataLoader\n",
    "import matplotlib as mpl\n",
    "import matplotlib.pyplot as plt\n",
    "\n",
    "from model import efficientnet_b0\n",
    "import os\n",
    "import torch\n",
    "\n",
    "from tqdm import tqdm\n",
    "\n",
    "data_dir = 'new_data/valid/herbs'\n",
    "data_set = SmallDataset(data_dir, 'valid')\n",
    "data_loader = DataLoader(\n",
    "    data_set,\n",
    "    batch_size=1,\n",
    "    shuffle=True,\n",
    "    num_workers=4\n",
    ")"
   ]
  },
  {
   "cell_type": "code",
   "execution_count": 2,
   "metadata": {},
   "outputs": [
    {
     "data": {
      "text/plain": [
       "36"
      ]
     },
     "execution_count": 2,
     "metadata": {},
     "output_type": "execute_result"
    }
   ],
   "source": [
    "lst = sorted(os.listdir(data_dir))\n",
    "len(lst)"
   ]
  },
  {
   "cell_type": "code",
   "execution_count": 12,
   "metadata": {},
   "outputs": [],
   "source": [
    "@torch.no_grad()\n",
    "def inference(model):\n",
    "    result = {\n",
    "        \"inference\": {},\n",
    "        \"time\": {\n",
    "            \"profile\": {\"cuda\": float(\"inf\"), \"cpu\": float(\"inf\")},\n",
    "            \"runtime\": {\"all\": 0, \"inference_only\": 0},\n",
    "            \"inference\": {},\n",
    "        },\n",
    "        \"macs\": float(\"inf\"),\n",
    "    }\n",
    "    time_measure_inference = 0\n",
    "    for img, label in tqdm(data_loader, \"Running inference ...\"):\n",
    "        t_start = torch.cuda.Event(enable_timing=True)\n",
    "        t_end = torch.cuda.Event(enable_timing=True)\n",
    "\n",
    "        t_start.record()\n",
    "        img = img.to(device)\n",
    "        pred = model(img)\n",
    "        pred = torch.argmax(pred, dim=-1)\n",
    "\n",
    "        t_end.record()\n",
    "        torch.cuda.synchronize()\n",
    "        t_inference = t_start.elapsed_time(t_end) / 1000\n",
    "        time_measure_inference += t_inference\n",
    "\n",
    "        # print(pred)\n",
    "        result[\"inference\"][label] = lst[int(pred.detach())]\n",
    "        result[\"time\"][\"inference\"][label] = t_inference\n",
    "\n",
    "    result[\"time\"][\"runtime\"][\"inference_only\"] = time_measure_inference\n",
    "\n",
    "    return result"
   ]
  },
  {
   "cell_type": "code",
   "execution_count": 4,
   "metadata": {},
   "outputs": [],
   "source": [
    "use_cuda = torch.cuda.is_available()\n",
    "device = torch.device(\"cuda\" if use_cuda else \"cpu\")\n",
    "m = torch.nn.Sigmoid()"
   ]
  },
  {
   "cell_type": "code",
   "execution_count": 13,
   "metadata": {},
   "outputs": [
    {
     "name": "stderr",
     "output_type": "stream",
     "text": [
      "Running inference ...: 100%|██████████| 7181/7181 [01:40<00:00, 71.76it/s]\n"
     ]
    },
    {
     "data": {
      "text/plain": [
       "86.94799757957418"
      ]
     },
     "execution_count": 13,
     "metadata": {},
     "output_type": "execute_result"
    }
   ],
   "source": [
    "model = efficientnet_b0(num_classes=len(lst))\n",
    "\n",
    "model_path = 'model2/herbs_e20_step/best.pt'\n",
    "model_checkpoint = torch.load(model_path)\n",
    "model.load_state_dict(model_checkpoint, strict=False)  #모델 불러오기\n",
    "\n",
    "model = model.to(device)\n",
    "model.eval()\n",
    "\n",
    "result = inference(model)\n",
    "result[\"time\"][\"runtime\"][\"inference_only\"]"
   ]
  },
  {
   "cell_type": "code",
   "execution_count": 14,
   "metadata": {},
   "outputs": [
    {
     "name": "stderr",
     "output_type": "stream",
     "text": [
      "Running inference ...: 100%|██████████| 7181/7181 [01:06<00:00, 108.27it/s]\n"
     ]
    },
    {
     "data": {
      "text/plain": [
       "55.82749732923508"
      ]
     },
     "execution_count": 14,
     "metadata": {},
     "output_type": "execute_result"
    }
   ],
   "source": [
    "\n",
    "model_path = 'model2/herbs_e20_step/best.ts'\n",
    "model = torch.jit.load(model_path)\n",
    "\n",
    "model = model.to(device)\n",
    "model.eval()\n",
    "\n",
    "result = inference(model)\n",
    "result[\"time\"][\"runtime\"][\"inference_only\"]"
   ]
  },
  {
   "cell_type": "code",
   "execution_count": null,
   "metadata": {},
   "outputs": [],
   "source": []
  }
 ],
 "metadata": {
  "interpreter": {
   "hash": "e31c68abf1d5dd3f9e2269f23eadf1b199587e56c0618a30760176a65ebfcab4"
  },
  "kernelspec": {
   "display_name": "Python 3.7.11 64-bit ('lightweight': conda)",
   "language": "python",
   "name": "python3"
  },
  "language_info": {
   "codemirror_mode": {
    "name": "ipython",
    "version": 3
   },
   "file_extension": ".py",
   "mimetype": "text/x-python",
   "name": "python",
   "nbconvert_exporter": "python",
   "pygments_lexer": "ipython3",
   "version": "3.7.11"
  },
  "orig_nbformat": 4
 },
 "nbformat": 4,
 "nbformat_minor": 2
}
